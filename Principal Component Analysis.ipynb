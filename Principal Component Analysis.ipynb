{
 "cells": [
  {
   "cell_type": "code",
   "execution_count": 1,
   "id": "cee03139-98d8-499f-a030-04ea5a74a60d",
   "metadata": {},
   "outputs": [],
   "source": [
    "import pandas as pd\n",
    "import numpy as np\n",
    "from sklearn.preprocessing import StandardScaler\n",
    "from sklearn.decomposition import PCA\n",
    "import matplotlib.pyplot as plt\n",
    "from mlxtend.feature_selection import SequentialFeatureSelector\n",
    "from sklearn.model_selection import train_test_split\n",
    "from sklearn.linear_model import LinearRegression\n",
    "from dmba import regressionSummary\n",
    "import statsmodels.api as sm\n",
    "import warnings\n",
    "warnings.simplefilter(\"ignore\")"
   ]
  },
  {
   "cell_type": "code",
   "execution_count": 2,
   "id": "b011ab39-284e-4893-a591-8f3a96a4a571",
   "metadata": {},
   "outputs": [],
   "source": [
    "df = pd.read_excel(r\"C:\\Users\\jesse\\OneDrive\\Desktop\\D600 Task 3 Dataset 1 Housing Information.xlsx\")"
   ]
  },
  {
   "cell_type": "code",
   "execution_count": 3,
   "id": "3d8565ea-8823-431b-8e7a-056131c58c57",
   "metadata": {},
   "outputs": [
    {
     "data": {
      "text/html": [
       "<div>\n",
       "<style scoped>\n",
       "    .dataframe tbody tr th:only-of-type {\n",
       "        vertical-align: middle;\n",
       "    }\n",
       "\n",
       "    .dataframe tbody tr th {\n",
       "        vertical-align: top;\n",
       "    }\n",
       "\n",
       "    .dataframe thead th {\n",
       "        text-align: right;\n",
       "    }\n",
       "</style>\n",
       "<table border=\"1\" class=\"dataframe\">\n",
       "  <thead>\n",
       "    <tr style=\"text-align: right;\">\n",
       "      <th></th>\n",
       "      <th>ID</th>\n",
       "      <th>Price</th>\n",
       "      <th>SquareFootage</th>\n",
       "      <th>NumBathrooms</th>\n",
       "      <th>NumBedrooms</th>\n",
       "      <th>BackyardSpace</th>\n",
       "      <th>CrimeRate</th>\n",
       "      <th>SchoolRating</th>\n",
       "      <th>AgeOfHome</th>\n",
       "      <th>DistanceToCityCenter</th>\n",
       "      <th>...</th>\n",
       "      <th>RenovationQuality</th>\n",
       "      <th>LocalAmenities</th>\n",
       "      <th>TransportAccess</th>\n",
       "      <th>Fireplace</th>\n",
       "      <th>HouseColor</th>\n",
       "      <th>Garage</th>\n",
       "      <th>Floors</th>\n",
       "      <th>Windows</th>\n",
       "      <th>PreviousSalePrice</th>\n",
       "      <th>IsLuxury</th>\n",
       "    </tr>\n",
       "  </thead>\n",
       "  <tbody>\n",
       "    <tr>\n",
       "      <th>0</th>\n",
       "      <td>4922</td>\n",
       "      <td>255614.8992</td>\n",
       "      <td>566.62</td>\n",
       "      <td>1.000000</td>\n",
       "      <td>4</td>\n",
       "      <td>779.42</td>\n",
       "      <td>20.56</td>\n",
       "      <td>5.62</td>\n",
       "      <td>39.46</td>\n",
       "      <td>10.08</td>\n",
       "      <td>...</td>\n",
       "      <td>4.93</td>\n",
       "      <td>4.44</td>\n",
       "      <td>4.55</td>\n",
       "      <td>Yes</td>\n",
       "      <td>Blue</td>\n",
       "      <td>No</td>\n",
       "      <td>1</td>\n",
       "      <td>13</td>\n",
       "      <td>181861.54230</td>\n",
       "      <td>0</td>\n",
       "    </tr>\n",
       "    <tr>\n",
       "      <th>1</th>\n",
       "      <td>5009</td>\n",
       "      <td>155586.0947</td>\n",
       "      <td>1472.34</td>\n",
       "      <td>1.000000</td>\n",
       "      <td>2</td>\n",
       "      <td>656.13</td>\n",
       "      <td>15.62</td>\n",
       "      <td>5.63</td>\n",
       "      <td>40.51</td>\n",
       "      <td>7.89</td>\n",
       "      <td>...</td>\n",
       "      <td>4.08</td>\n",
       "      <td>5.56</td>\n",
       "      <td>6.83</td>\n",
       "      <td>No</td>\n",
       "      <td>Green</td>\n",
       "      <td>No</td>\n",
       "      <td>1</td>\n",
       "      <td>17</td>\n",
       "      <td>50042.59757</td>\n",
       "      <td>0</td>\n",
       "    </tr>\n",
       "    <tr>\n",
       "      <th>2</th>\n",
       "      <td>4450</td>\n",
       "      <td>131050.8324</td>\n",
       "      <td>550.00</td>\n",
       "      <td>1.779354</td>\n",
       "      <td>3</td>\n",
       "      <td>754.57</td>\n",
       "      <td>12.47</td>\n",
       "      <td>9.20</td>\n",
       "      <td>48.38</td>\n",
       "      <td>23.74</td>\n",
       "      <td>...</td>\n",
       "      <td>4.26</td>\n",
       "      <td>8.07</td>\n",
       "      <td>8.48</td>\n",
       "      <td>Yes</td>\n",
       "      <td>Green</td>\n",
       "      <td>Yes</td>\n",
       "      <td>2</td>\n",
       "      <td>34</td>\n",
       "      <td>48400.34440</td>\n",
       "      <td>0</td>\n",
       "    </tr>\n",
       "    <tr>\n",
       "      <th>3</th>\n",
       "      <td>1070</td>\n",
       "      <td>151361.7125</td>\n",
       "      <td>941.81</td>\n",
       "      <td>2.035254</td>\n",
       "      <td>2</td>\n",
       "      <td>439.59</td>\n",
       "      <td>22.22</td>\n",
       "      <td>7.08</td>\n",
       "      <td>94.67</td>\n",
       "      <td>5.22</td>\n",
       "      <td>...</td>\n",
       "      <td>4.45</td>\n",
       "      <td>5.00</td>\n",
       "      <td>6.27</td>\n",
       "      <td>Yes</td>\n",
       "      <td>Red</td>\n",
       "      <td>No</td>\n",
       "      <td>1</td>\n",
       "      <td>14</td>\n",
       "      <td>84594.12145</td>\n",
       "      <td>0</td>\n",
       "    </tr>\n",
       "    <tr>\n",
       "      <th>4</th>\n",
       "      <td>400</td>\n",
       "      <td>113167.6128</td>\n",
       "      <td>550.00</td>\n",
       "      <td>1.064644</td>\n",
       "      <td>3</td>\n",
       "      <td>353.03</td>\n",
       "      <td>8.28</td>\n",
       "      <td>5.93</td>\n",
       "      <td>16.80</td>\n",
       "      <td>43.13</td>\n",
       "      <td>...</td>\n",
       "      <td>3.36</td>\n",
       "      <td>5.46</td>\n",
       "      <td>6.99</td>\n",
       "      <td>No</td>\n",
       "      <td>White</td>\n",
       "      <td>Yes</td>\n",
       "      <td>1</td>\n",
       "      <td>21</td>\n",
       "      <td>22934.59654</td>\n",
       "      <td>0</td>\n",
       "    </tr>\n",
       "    <tr>\n",
       "      <th>...</th>\n",
       "      <td>...</td>\n",
       "      <td>...</td>\n",
       "      <td>...</td>\n",
       "      <td>...</td>\n",
       "      <td>...</td>\n",
       "      <td>...</td>\n",
       "      <td>...</td>\n",
       "      <td>...</td>\n",
       "      <td>...</td>\n",
       "      <td>...</td>\n",
       "      <td>...</td>\n",
       "      <td>...</td>\n",
       "      <td>...</td>\n",
       "      <td>...</td>\n",
       "      <td>...</td>\n",
       "      <td>...</td>\n",
       "      <td>...</td>\n",
       "      <td>...</td>\n",
       "      <td>...</td>\n",
       "      <td>...</td>\n",
       "      <td>...</td>\n",
       "    </tr>\n",
       "    <tr>\n",
       "      <th>6995</th>\n",
       "      <td>6987</td>\n",
       "      <td>307821.1758</td>\n",
       "      <td>550.00</td>\n",
       "      <td>2.111022</td>\n",
       "      <td>4</td>\n",
       "      <td>892.35</td>\n",
       "      <td>11.89</td>\n",
       "      <td>7.97</td>\n",
       "      <td>28.18</td>\n",
       "      <td>19.23</td>\n",
       "      <td>...</td>\n",
       "      <td>4.76</td>\n",
       "      <td>3.81</td>\n",
       "      <td>6.87</td>\n",
       "      <td>No</td>\n",
       "      <td>White</td>\n",
       "      <td>Yes</td>\n",
       "      <td>1</td>\n",
       "      <td>18</td>\n",
       "      <td>241131.63070</td>\n",
       "      <td>1</td>\n",
       "    </tr>\n",
       "    <tr>\n",
       "      <th>6996</th>\n",
       "      <td>6995</td>\n",
       "      <td>421368.8869</td>\n",
       "      <td>1726.12</td>\n",
       "      <td>4.056115</td>\n",
       "      <td>2</td>\n",
       "      <td>943.19</td>\n",
       "      <td>34.06</td>\n",
       "      <td>5.82</td>\n",
       "      <td>90.45</td>\n",
       "      <td>17.60</td>\n",
       "      <td>...</td>\n",
       "      <td>5.31</td>\n",
       "      <td>9.84</td>\n",
       "      <td>10.00</td>\n",
       "      <td>No</td>\n",
       "      <td>White</td>\n",
       "      <td>Yes</td>\n",
       "      <td>1</td>\n",
       "      <td>18</td>\n",
       "      <td>481604.80730</td>\n",
       "      <td>1</td>\n",
       "    </tr>\n",
       "    <tr>\n",
       "      <th>6997</th>\n",
       "      <td>6996</td>\n",
       "      <td>473382.5348</td>\n",
       "      <td>1026.36</td>\n",
       "      <td>2.077177</td>\n",
       "      <td>5</td>\n",
       "      <td>149.31</td>\n",
       "      <td>0.10</td>\n",
       "      <td>8.81</td>\n",
       "      <td>31.79</td>\n",
       "      <td>11.59</td>\n",
       "      <td>...</td>\n",
       "      <td>4.98</td>\n",
       "      <td>7.47</td>\n",
       "      <td>2.96</td>\n",
       "      <td>No</td>\n",
       "      <td>Green</td>\n",
       "      <td>No</td>\n",
       "      <td>1</td>\n",
       "      <td>13</td>\n",
       "      <td>380555.49390</td>\n",
       "      <td>1</td>\n",
       "    </tr>\n",
       "    <tr>\n",
       "      <th>6998</th>\n",
       "      <td>6998</td>\n",
       "      <td>343397.9756</td>\n",
       "      <td>2218.22</td>\n",
       "      <td>1.000000</td>\n",
       "      <td>4</td>\n",
       "      <td>526.81</td>\n",
       "      <td>11.18</td>\n",
       "      <td>9.20</td>\n",
       "      <td>15.21</td>\n",
       "      <td>3.96</td>\n",
       "      <td>...</td>\n",
       "      <td>4.68</td>\n",
       "      <td>7.66</td>\n",
       "      <td>6.12</td>\n",
       "      <td>No</td>\n",
       "      <td>Blue</td>\n",
       "      <td>Yes</td>\n",
       "      <td>1</td>\n",
       "      <td>10</td>\n",
       "      <td>442610.31710</td>\n",
       "      <td>0</td>\n",
       "    </tr>\n",
       "    <tr>\n",
       "      <th>6999</th>\n",
       "      <td>7000</td>\n",
       "      <td>438060.8193</td>\n",
       "      <td>1553.57</td>\n",
       "      <td>3.988377</td>\n",
       "      <td>4</td>\n",
       "      <td>844.06</td>\n",
       "      <td>18.80</td>\n",
       "      <td>10.00</td>\n",
       "      <td>26.07</td>\n",
       "      <td>24.40</td>\n",
       "      <td>...</td>\n",
       "      <td>8.80</td>\n",
       "      <td>6.66</td>\n",
       "      <td>5.19</td>\n",
       "      <td>No</td>\n",
       "      <td>White</td>\n",
       "      <td>Yes</td>\n",
       "      <td>1</td>\n",
       "      <td>19</td>\n",
       "      <td>492214.95980</td>\n",
       "      <td>1</td>\n",
       "    </tr>\n",
       "  </tbody>\n",
       "</table>\n",
       "<p>7000 rows × 22 columns</p>\n",
       "</div>"
      ],
      "text/plain": [
       "        ID        Price  SquareFootage  NumBathrooms  NumBedrooms  \\\n",
       "0     4922  255614.8992         566.62      1.000000            4   \n",
       "1     5009  155586.0947        1472.34      1.000000            2   \n",
       "2     4450  131050.8324         550.00      1.779354            3   \n",
       "3     1070  151361.7125         941.81      2.035254            2   \n",
       "4      400  113167.6128         550.00      1.064644            3   \n",
       "...    ...          ...            ...           ...          ...   \n",
       "6995  6987  307821.1758         550.00      2.111022            4   \n",
       "6996  6995  421368.8869        1726.12      4.056115            2   \n",
       "6997  6996  473382.5348        1026.36      2.077177            5   \n",
       "6998  6998  343397.9756        2218.22      1.000000            4   \n",
       "6999  7000  438060.8193        1553.57      3.988377            4   \n",
       "\n",
       "      BackyardSpace  CrimeRate  SchoolRating  AgeOfHome  DistanceToCityCenter  \\\n",
       "0            779.42      20.56          5.62      39.46                 10.08   \n",
       "1            656.13      15.62          5.63      40.51                  7.89   \n",
       "2            754.57      12.47          9.20      48.38                 23.74   \n",
       "3            439.59      22.22          7.08      94.67                  5.22   \n",
       "4            353.03       8.28          5.93      16.80                 43.13   \n",
       "...             ...        ...           ...        ...                   ...   \n",
       "6995         892.35      11.89          7.97      28.18                 19.23   \n",
       "6996         943.19      34.06          5.82      90.45                 17.60   \n",
       "6997         149.31       0.10          8.81      31.79                 11.59   \n",
       "6998         526.81      11.18          9.20      15.21                  3.96   \n",
       "6999         844.06      18.80         10.00      26.07                 24.40   \n",
       "\n",
       "      ...  RenovationQuality  LocalAmenities  TransportAccess  Fireplace  \\\n",
       "0     ...               4.93            4.44             4.55        Yes   \n",
       "1     ...               4.08            5.56             6.83         No   \n",
       "2     ...               4.26            8.07             8.48        Yes   \n",
       "3     ...               4.45            5.00             6.27        Yes   \n",
       "4     ...               3.36            5.46             6.99         No   \n",
       "...   ...                ...             ...              ...        ...   \n",
       "6995  ...               4.76            3.81             6.87         No   \n",
       "6996  ...               5.31            9.84            10.00         No   \n",
       "6997  ...               4.98            7.47             2.96         No   \n",
       "6998  ...               4.68            7.66             6.12         No   \n",
       "6999  ...               8.80            6.66             5.19         No   \n",
       "\n",
       "      HouseColor Garage Floors Windows  PreviousSalePrice  IsLuxury  \n",
       "0           Blue     No      1      13       181861.54230         0  \n",
       "1          Green     No      1      17        50042.59757         0  \n",
       "2          Green    Yes      2      34        48400.34440         0  \n",
       "3            Red     No      1      14        84594.12145         0  \n",
       "4          White    Yes      1      21        22934.59654         0  \n",
       "...          ...    ...    ...     ...                ...       ...  \n",
       "6995       White    Yes      1      18       241131.63070         1  \n",
       "6996       White    Yes      1      18       481604.80730         1  \n",
       "6997       Green     No      1      13       380555.49390         1  \n",
       "6998        Blue    Yes      1      10       442610.31710         0  \n",
       "6999       White    Yes      1      19       492214.95980         1  \n",
       "\n",
       "[7000 rows x 22 columns]"
      ]
     },
     "metadata": {},
     "output_type": "display_data"
    }
   ],
   "source": [
    "display(df)"
   ]
  },
  {
   "cell_type": "code",
   "execution_count": 4,
   "id": "f9ca95c6-05d9-4b1a-97e4-21994c0d82ba",
   "metadata": {},
   "outputs": [],
   "source": [
    "y = df[\"Price\"]"
   ]
  },
  {
   "cell_type": "code",
   "execution_count": 5,
   "id": "d9e5e06b-139f-4cf4-8700-66c79b13911b",
   "metadata": {},
   "outputs": [
    {
     "name": "stdout",
     "output_type": "stream",
     "text": [
      "1046675.64\n"
     ]
    }
   ],
   "source": [
    "print(max(y))"
   ]
  },
  {
   "cell_type": "code",
   "execution_count": 6,
   "id": "864e055c-71b2-4d2c-b348-a23fb73a41a0",
   "metadata": {},
   "outputs": [],
   "source": [
    "df = df.drop([\"ID\", \"Price\", \"NumBathrooms\", \"NumBedrooms\", \"Fireplace\", \"HouseColor\", \"Garage\", \"Floors\", \"Windows\", \"IsLuxury\"], axis=1)"
   ]
  },
  {
   "cell_type": "code",
   "execution_count": 7,
   "id": "ed19ebaf-929a-4a6e-9e74-90ba40acab02",
   "metadata": {},
   "outputs": [
    {
     "data": {
      "text/html": [
       "<div>\n",
       "<style scoped>\n",
       "    .dataframe tbody tr th:only-of-type {\n",
       "        vertical-align: middle;\n",
       "    }\n",
       "\n",
       "    .dataframe tbody tr th {\n",
       "        vertical-align: top;\n",
       "    }\n",
       "\n",
       "    .dataframe thead th {\n",
       "        text-align: right;\n",
       "    }\n",
       "</style>\n",
       "<table border=\"1\" class=\"dataframe\">\n",
       "  <thead>\n",
       "    <tr style=\"text-align: right;\">\n",
       "      <th></th>\n",
       "      <th>SquareFootage</th>\n",
       "      <th>BackyardSpace</th>\n",
       "      <th>CrimeRate</th>\n",
       "      <th>SchoolRating</th>\n",
       "      <th>AgeOfHome</th>\n",
       "      <th>DistanceToCityCenter</th>\n",
       "      <th>EmploymentRate</th>\n",
       "      <th>PropertyTaxRate</th>\n",
       "      <th>RenovationQuality</th>\n",
       "      <th>LocalAmenities</th>\n",
       "      <th>TransportAccess</th>\n",
       "      <th>PreviousSalePrice</th>\n",
       "    </tr>\n",
       "  </thead>\n",
       "  <tbody>\n",
       "    <tr>\n",
       "      <th>0</th>\n",
       "      <td>566.62</td>\n",
       "      <td>779.42</td>\n",
       "      <td>20.56</td>\n",
       "      <td>5.62</td>\n",
       "      <td>39.46</td>\n",
       "      <td>10.08</td>\n",
       "      <td>97.29</td>\n",
       "      <td>1.84</td>\n",
       "      <td>4.93</td>\n",
       "      <td>4.44</td>\n",
       "      <td>4.55</td>\n",
       "      <td>181861.54230</td>\n",
       "    </tr>\n",
       "    <tr>\n",
       "      <th>1</th>\n",
       "      <td>1472.34</td>\n",
       "      <td>656.13</td>\n",
       "      <td>15.62</td>\n",
       "      <td>5.63</td>\n",
       "      <td>40.51</td>\n",
       "      <td>7.89</td>\n",
       "      <td>93.22</td>\n",
       "      <td>0.95</td>\n",
       "      <td>4.08</td>\n",
       "      <td>5.56</td>\n",
       "      <td>6.83</td>\n",
       "      <td>50042.59757</td>\n",
       "    </tr>\n",
       "    <tr>\n",
       "      <th>2</th>\n",
       "      <td>550.00</td>\n",
       "      <td>754.57</td>\n",
       "      <td>12.47</td>\n",
       "      <td>9.20</td>\n",
       "      <td>48.38</td>\n",
       "      <td>23.74</td>\n",
       "      <td>96.60</td>\n",
       "      <td>1.87</td>\n",
       "      <td>4.26</td>\n",
       "      <td>8.07</td>\n",
       "      <td>8.48</td>\n",
       "      <td>48400.34440</td>\n",
       "    </tr>\n",
       "    <tr>\n",
       "      <th>3</th>\n",
       "      <td>941.81</td>\n",
       "      <td>439.59</td>\n",
       "      <td>22.22</td>\n",
       "      <td>7.08</td>\n",
       "      <td>94.67</td>\n",
       "      <td>5.22</td>\n",
       "      <td>91.45</td>\n",
       "      <td>1.45</td>\n",
       "      <td>4.45</td>\n",
       "      <td>5.00</td>\n",
       "      <td>6.27</td>\n",
       "      <td>84594.12145</td>\n",
       "    </tr>\n",
       "    <tr>\n",
       "      <th>4</th>\n",
       "      <td>550.00</td>\n",
       "      <td>353.03</td>\n",
       "      <td>8.28</td>\n",
       "      <td>5.93</td>\n",
       "      <td>16.80</td>\n",
       "      <td>43.13</td>\n",
       "      <td>86.50</td>\n",
       "      <td>1.26</td>\n",
       "      <td>3.36</td>\n",
       "      <td>5.46</td>\n",
       "      <td>6.99</td>\n",
       "      <td>22934.59654</td>\n",
       "    </tr>\n",
       "    <tr>\n",
       "      <th>...</th>\n",
       "      <td>...</td>\n",
       "      <td>...</td>\n",
       "      <td>...</td>\n",
       "      <td>...</td>\n",
       "      <td>...</td>\n",
       "      <td>...</td>\n",
       "      <td>...</td>\n",
       "      <td>...</td>\n",
       "      <td>...</td>\n",
       "      <td>...</td>\n",
       "      <td>...</td>\n",
       "      <td>...</td>\n",
       "    </tr>\n",
       "    <tr>\n",
       "      <th>6995</th>\n",
       "      <td>550.00</td>\n",
       "      <td>892.35</td>\n",
       "      <td>11.89</td>\n",
       "      <td>7.97</td>\n",
       "      <td>28.18</td>\n",
       "      <td>19.23</td>\n",
       "      <td>96.91</td>\n",
       "      <td>1.39</td>\n",
       "      <td>4.76</td>\n",
       "      <td>3.81</td>\n",
       "      <td>6.87</td>\n",
       "      <td>241131.63070</td>\n",
       "    </tr>\n",
       "    <tr>\n",
       "      <th>6996</th>\n",
       "      <td>1726.12</td>\n",
       "      <td>943.19</td>\n",
       "      <td>34.06</td>\n",
       "      <td>5.82</td>\n",
       "      <td>90.45</td>\n",
       "      <td>17.60</td>\n",
       "      <td>92.25</td>\n",
       "      <td>1.67</td>\n",
       "      <td>5.31</td>\n",
       "      <td>9.84</td>\n",
       "      <td>10.00</td>\n",
       "      <td>481604.80730</td>\n",
       "    </tr>\n",
       "    <tr>\n",
       "      <th>6997</th>\n",
       "      <td>1026.36</td>\n",
       "      <td>149.31</td>\n",
       "      <td>0.10</td>\n",
       "      <td>8.81</td>\n",
       "      <td>31.79</td>\n",
       "      <td>11.59</td>\n",
       "      <td>94.57</td>\n",
       "      <td>1.45</td>\n",
       "      <td>4.98</td>\n",
       "      <td>7.47</td>\n",
       "      <td>2.96</td>\n",
       "      <td>380555.49390</td>\n",
       "    </tr>\n",
       "    <tr>\n",
       "      <th>6998</th>\n",
       "      <td>2218.22</td>\n",
       "      <td>526.81</td>\n",
       "      <td>11.18</td>\n",
       "      <td>9.20</td>\n",
       "      <td>15.21</td>\n",
       "      <td>3.96</td>\n",
       "      <td>99.90</td>\n",
       "      <td>1.52</td>\n",
       "      <td>4.68</td>\n",
       "      <td>7.66</td>\n",
       "      <td>6.12</td>\n",
       "      <td>442610.31710</td>\n",
       "    </tr>\n",
       "    <tr>\n",
       "      <th>6999</th>\n",
       "      <td>1553.57</td>\n",
       "      <td>844.06</td>\n",
       "      <td>18.80</td>\n",
       "      <td>10.00</td>\n",
       "      <td>26.07</td>\n",
       "      <td>24.40</td>\n",
       "      <td>95.73</td>\n",
       "      <td>1.17</td>\n",
       "      <td>8.80</td>\n",
       "      <td>6.66</td>\n",
       "      <td>5.19</td>\n",
       "      <td>492214.95980</td>\n",
       "    </tr>\n",
       "  </tbody>\n",
       "</table>\n",
       "<p>7000 rows × 12 columns</p>\n",
       "</div>"
      ],
      "text/plain": [
       "      SquareFootage  BackyardSpace  CrimeRate  SchoolRating  AgeOfHome  \\\n",
       "0            566.62         779.42      20.56          5.62      39.46   \n",
       "1           1472.34         656.13      15.62          5.63      40.51   \n",
       "2            550.00         754.57      12.47          9.20      48.38   \n",
       "3            941.81         439.59      22.22          7.08      94.67   \n",
       "4            550.00         353.03       8.28          5.93      16.80   \n",
       "...             ...            ...        ...           ...        ...   \n",
       "6995         550.00         892.35      11.89          7.97      28.18   \n",
       "6996        1726.12         943.19      34.06          5.82      90.45   \n",
       "6997        1026.36         149.31       0.10          8.81      31.79   \n",
       "6998        2218.22         526.81      11.18          9.20      15.21   \n",
       "6999        1553.57         844.06      18.80         10.00      26.07   \n",
       "\n",
       "      DistanceToCityCenter  EmploymentRate  PropertyTaxRate  \\\n",
       "0                    10.08           97.29             1.84   \n",
       "1                     7.89           93.22             0.95   \n",
       "2                    23.74           96.60             1.87   \n",
       "3                     5.22           91.45             1.45   \n",
       "4                    43.13           86.50             1.26   \n",
       "...                    ...             ...              ...   \n",
       "6995                 19.23           96.91             1.39   \n",
       "6996                 17.60           92.25             1.67   \n",
       "6997                 11.59           94.57             1.45   \n",
       "6998                  3.96           99.90             1.52   \n",
       "6999                 24.40           95.73             1.17   \n",
       "\n",
       "      RenovationQuality  LocalAmenities  TransportAccess  PreviousSalePrice  \n",
       "0                  4.93            4.44             4.55       181861.54230  \n",
       "1                  4.08            5.56             6.83        50042.59757  \n",
       "2                  4.26            8.07             8.48        48400.34440  \n",
       "3                  4.45            5.00             6.27        84594.12145  \n",
       "4                  3.36            5.46             6.99        22934.59654  \n",
       "...                 ...             ...              ...                ...  \n",
       "6995               4.76            3.81             6.87       241131.63070  \n",
       "6996               5.31            9.84            10.00       481604.80730  \n",
       "6997               4.98            7.47             2.96       380555.49390  \n",
       "6998               4.68            7.66             6.12       442610.31710  \n",
       "6999               8.80            6.66             5.19       492214.95980  \n",
       "\n",
       "[7000 rows x 12 columns]"
      ]
     },
     "metadata": {},
     "output_type": "display_data"
    }
   ],
   "source": [
    "display(df)"
   ]
  },
  {
   "cell_type": "code",
   "execution_count": 8,
   "id": "22892c06-0707-4568-b3ee-b37c61ae1876",
   "metadata": {},
   "outputs": [
    {
     "name": "stdout",
     "output_type": "stream",
     "text": [
      "count    7.000000e+03\n",
      "mean     3.072820e+05\n",
      "std      1.501734e+05\n",
      "min      8.500000e+04\n",
      "25%      1.921075e+05\n",
      "50%      2.793230e+05\n",
      "75%      3.918781e+05\n",
      "max      1.046676e+06\n",
      "Name: Price, dtype: float64\n"
     ]
    }
   ],
   "source": [
    "print(y.describe())"
   ]
  },
  {
   "cell_type": "code",
   "execution_count": 9,
   "id": "ba6fbc4e-78f9-4e9b-ac15-c57fb0662984",
   "metadata": {},
   "outputs": [
    {
     "name": "stdout",
     "output_type": "stream",
     "text": [
      "count    7000.000000\n",
      "mean     1048.947459\n",
      "std       426.010482\n",
      "min       550.000000\n",
      "25%       660.815000\n",
      "50%       996.320000\n",
      "75%      1342.292500\n",
      "max      2874.700000\n",
      "Name: SquareFootage, dtype: float64\n"
     ]
    }
   ],
   "source": [
    "print(df[\"SquareFootage\"].describe())"
   ]
  },
  {
   "cell_type": "code",
   "execution_count": 10,
   "id": "84ec3620-d015-4898-ab9e-d3b580d09bdf",
   "metadata": {},
   "outputs": [
    {
     "name": "stdout",
     "output_type": "stream",
     "text": [
      "count    7000.000000\n",
      "mean      511.507029\n",
      "std       279.926549\n",
      "min         0.390000\n",
      "25%       300.995000\n",
      "50%       495.965000\n",
      "75%       704.012500\n",
      "max      1631.360000\n",
      "Name: BackyardSpace, dtype: float64\n"
     ]
    }
   ],
   "source": [
    "print(df[\"BackyardSpace\"].describe())"
   ]
  },
  {
   "cell_type": "code",
   "execution_count": 11,
   "id": "ad0bf0ed-df8a-43e1-bec6-c866e9418758",
   "metadata": {},
   "outputs": [
    {
     "name": "stdout",
     "output_type": "stream",
     "text": [
      "count    7000.000000\n",
      "mean       31.226194\n",
      "std        18.025327\n",
      "min         0.030000\n",
      "25%        17.390000\n",
      "50%        30.385000\n",
      "75%        43.670000\n",
      "max        99.730000\n",
      "Name: CrimeRate, dtype: float64\n"
     ]
    }
   ],
   "source": [
    "print(df[\"CrimeRate\"].describe())"
   ]
  },
  {
   "cell_type": "code",
   "execution_count": 12,
   "id": "5f7a60b8-593d-42c3-8bc3-f43b9c0b5bb4",
   "metadata": {},
   "outputs": [
    {
     "name": "stdout",
     "output_type": "stream",
     "text": [
      "count    7000.000000\n",
      "mean        6.942923\n",
      "std         1.888148\n",
      "min         0.220000\n",
      "25%         5.650000\n",
      "50%         7.010000\n",
      "75%         8.360000\n",
      "max        10.000000\n",
      "Name: SchoolRating, dtype: float64\n"
     ]
    }
   ],
   "source": [
    "print(df[\"SchoolRating\"].describe())"
   ]
  },
  {
   "cell_type": "code",
   "execution_count": 13,
   "id": "55be3f5b-9cfc-4275-8c1f-d2d4e1a2aca6",
   "metadata": {},
   "outputs": [
    {
     "name": "stdout",
     "output_type": "stream",
     "text": [
      "count    7000.000000\n",
      "mean       46.797046\n",
      "std        31.779701\n",
      "min         0.010000\n",
      "25%        20.755000\n",
      "50%        42.620000\n",
      "75%        67.232500\n",
      "max       178.680000\n",
      "Name: AgeOfHome, dtype: float64\n"
     ]
    }
   ],
   "source": [
    "print(df[\"AgeOfHome\"].describe())"
   ]
  },
  {
   "cell_type": "code",
   "execution_count": 14,
   "id": "66606bd5-916b-4b27-ac0f-3af60e62de58",
   "metadata": {},
   "outputs": [
    {
     "name": "stdout",
     "output_type": "stream",
     "text": [
      "count    7000.000000\n",
      "mean       17.475337\n",
      "std        12.024985\n",
      "min         0.000000\n",
      "25%         7.827500\n",
      "50%        15.625000\n",
      "75%        25.222500\n",
      "max        65.200000\n",
      "Name: DistanceToCityCenter, dtype: float64\n"
     ]
    }
   ],
   "source": [
    "print(df[\"DistanceToCityCenter\"].describe())"
   ]
  },
  {
   "cell_type": "code",
   "execution_count": 15,
   "id": "3d403062-58d7-42ac-a855-515bc17a47e2",
   "metadata": {},
   "outputs": [
    {
     "name": "stdout",
     "output_type": "stream",
     "text": [
      "count    7000.000000\n",
      "mean       93.711349\n",
      "std         4.505359\n",
      "min        72.050000\n",
      "25%        90.620000\n",
      "50%        94.010000\n",
      "75%        97.410000\n",
      "max        99.900000\n",
      "Name: EmploymentRate, dtype: float64\n"
     ]
    }
   ],
   "source": [
    "print(df[\"EmploymentRate\"].describe())"
   ]
  },
  {
   "cell_type": "code",
   "execution_count": 17,
   "id": "0a7afdfa-ee2d-4de2-b247-5eaeec5c8fd2",
   "metadata": {},
   "outputs": [
    {
     "name": "stdout",
     "output_type": "stream",
     "text": [
      "count    7000.000000\n",
      "mean        1.500437\n",
      "std         0.498591\n",
      "min         0.010000\n",
      "25%         1.160000\n",
      "50%         1.490000\n",
      "75%         1.840000\n",
      "max         3.360000\n",
      "Name: PropertyTaxRate, dtype: float64\n"
     ]
    }
   ],
   "source": [
    "print(df[\"PropertyTaxRate\"].describe())"
   ]
  },
  {
   "cell_type": "code",
   "execution_count": 18,
   "id": "b2d61929-04a6-4cc1-a8ec-988efd5f45e3",
   "metadata": {},
   "outputs": [
    {
     "name": "stdout",
     "output_type": "stream",
     "text": [
      "count    7000.000000\n",
      "mean        5.003357\n",
      "std         1.970428\n",
      "min         0.010000\n",
      "25%         3.660000\n",
      "50%         5.020000\n",
      "75%         6.350000\n",
      "max        10.000000\n",
      "Name: RenovationQuality, dtype: float64\n"
     ]
    }
   ],
   "source": [
    "print(df[\"RenovationQuality\"].describe())"
   ]
  },
  {
   "cell_type": "code",
   "execution_count": 19,
   "id": "b6b820d8-e5cd-49d8-b2fc-d72bb68fbb90",
   "metadata": {},
   "outputs": [
    {
     "name": "stdout",
     "output_type": "stream",
     "text": [
      "count    7000.000000\n",
      "mean        5.934579\n",
      "std         2.657930\n",
      "min         0.000000\n",
      "25%         4.000000\n",
      "50%         6.040000\n",
      "75%         8.050000\n",
      "max        10.000000\n",
      "Name: LocalAmenities, dtype: float64\n"
     ]
    }
   ],
   "source": [
    "print(df[\"LocalAmenities\"].describe())"
   ]
  },
  {
   "cell_type": "code",
   "execution_count": 20,
   "id": "45bd0dbe-08ee-4407-ad4e-35895893c427",
   "metadata": {},
   "outputs": [
    {
     "name": "stdout",
     "output_type": "stream",
     "text": [
      "count    7000.000000\n",
      "mean        5.983860\n",
      "std         1.953974\n",
      "min         0.010000\n",
      "25%         4.680000\n",
      "50%         6.000000\n",
      "75%         7.350000\n",
      "max        10.000000\n",
      "Name: TransportAccess, dtype: float64\n"
     ]
    }
   ],
   "source": [
    "print(df[\"TransportAccess\"].describe())"
   ]
  },
  {
   "cell_type": "code",
   "execution_count": 21,
   "id": "771e7823-5f99-462d-b656-9abc44724dab",
   "metadata": {},
   "outputs": [
    {
     "name": "stdout",
     "output_type": "stream",
     "text": [
      "count    7.000000e+03\n",
      "mean     2.845094e+05\n",
      "std      1.857340e+05\n",
      "min     -8.356902e+03\n",
      "25%      1.420140e+05\n",
      "50%      2.621831e+05\n",
      "75%      3.961212e+05\n",
      "max      1.296607e+06\n",
      "Name: PreviousSalePrice, dtype: float64\n"
     ]
    }
   ],
   "source": [
    "print(df[\"PreviousSalePrice\"].describe())"
   ]
  },
  {
   "cell_type": "code",
   "execution_count": 41,
   "id": "d229d5ef-4237-4f82-9b20-07aaa7fafc6a",
   "metadata": {},
   "outputs": [],
   "source": [
    "scaler = StandardScaler()\n",
    "df_new = scaler.fit_transform(df)"
   ]
  },
  {
   "cell_type": "code",
   "execution_count": 119,
   "id": "a23e4af0-3904-4b13-b495-233318bd33bb",
   "metadata": {},
   "outputs": [],
   "source": [
    "df_new1 = pd.DataFrame(df_new, columns=df.columns)\n",
    "\n",
    "df_new1.to_csv(r\"C:\\Users\\jesse\\OneDrive\\Desktop\\Standardized Dataset\")"
   ]
  },
  {
   "cell_type": "code",
   "execution_count": 45,
   "id": "f0d308a8-8f03-46af-be25-941325f9d139",
   "metadata": {},
   "outputs": [],
   "source": [
    "cov_matrix = np.cov(df_new.T)"
   ]
  },
  {
   "cell_type": "code",
   "execution_count": 47,
   "id": "ae22a7ff-2f4f-4644-a99f-ee57a106b8b3",
   "metadata": {},
   "outputs": [
    {
     "name": "stdout",
     "output_type": "stream",
     "text": [
      "[[ 1.00014288  0.08824851 -0.04414921  0.28571952 -0.07910867 -0.16216743\n",
      "   0.0441724  -0.09838408  0.38739981  0.10001461  0.09588964  0.58389628]\n",
      " [ 0.08824851  1.00014288 -0.04607436  0.04732675 -0.03980082 -0.04482697\n",
      "   0.05016759 -0.04654615  0.09436378  0.04686342  0.05097423  0.08217702]\n",
      " [-0.04414921 -0.04607436  1.00014288 -0.18994257  0.04802311  0.08345535\n",
      "  -0.09782334  0.05036685 -0.09355982 -0.04724031 -0.04877584 -0.07606851]\n",
      " [ 0.28571952  0.04732675 -0.18994257  1.00014288 -0.12324104 -0.1729871\n",
      "   0.19843441 -0.14588582  0.49532526  0.13864178  0.14553125  0.42121357]\n",
      " [-0.07910867 -0.03980082  0.04802311 -0.12324104  1.00014288  0.14177125\n",
      "  -0.04235269  0.08701077 -0.11889285 -0.08121907 -0.08336461 -0.13845255]\n",
      " [-0.16216743 -0.04482697  0.08345535 -0.1729871   0.14177125  1.00014288\n",
      "  -0.02962072  0.09545426 -0.17358806 -0.08014216 -0.08016528 -0.21313238]\n",
      " [ 0.0441724   0.05016759 -0.09782334  0.19843441 -0.04235269 -0.02962072\n",
      "   1.00014288 -0.0510014   0.19648991  0.04745091  0.04833594  0.0799024 ]\n",
      " [-0.09838408 -0.04654615  0.05036685 -0.14588582  0.08701077  0.09545426\n",
      "  -0.0510014   1.00014288 -0.09897828 -0.04946919 -0.049206   -0.18310362]\n",
      " [ 0.38739981  0.09436378 -0.09355982  0.49532526 -0.11889285 -0.17358806\n",
      "   0.19648991 -0.09897828  1.00014288  0.19595647  0.19747189  0.52356181]\n",
      " [ 0.10001461  0.04686342 -0.04724031  0.13864178 -0.08121907 -0.08014216\n",
      "   0.04745091 -0.04946919  0.19595647  1.00014288  0.48806436  0.17243796]\n",
      " [ 0.09588964  0.05097423 -0.04877584  0.14553125 -0.08336461 -0.08016528\n",
      "   0.04833594 -0.049206    0.19747189  0.48806436  1.00014288  0.17495647]\n",
      " [ 0.58389628  0.08217702 -0.07606851  0.42121357 -0.13845255 -0.21313238\n",
      "   0.0799024  -0.18310362  0.52356181  0.17243796  0.17495647  1.00014288]]\n"
     ]
    }
   ],
   "source": [
    "print(cov_matrix)"
   ]
  },
  {
   "cell_type": "code",
   "execution_count": 49,
   "id": "5230e294-66f7-454b-9345-2518e6d2678c",
   "metadata": {},
   "outputs": [],
   "source": [
    "eigen_values, eigen_vectors = np.linalg.eig(cov_matrix)"
   ]
  },
  {
   "cell_type": "code",
   "execution_count": 51,
   "id": "06c9156a-84e3-43ad-b470-8c187f718fe0",
   "metadata": {},
   "outputs": [
    {
     "name": "stdout",
     "output_type": "stream",
     "text": [
      "[2.82319341 1.32601259 0.37259989 0.47274845 0.51202145 0.67872311\n",
      " 1.10998112 1.05035864 0.83235933 0.98277856 0.92900114 0.91193684]\n"
     ]
    }
   ],
   "source": [
    "print(eigen_values)"
   ]
  },
  {
   "cell_type": "code",
   "execution_count": 53,
   "id": "6f22a4c7-394f-4ecc-bb15-2b53ee8be8c2",
   "metadata": {},
   "outputs": [],
   "source": [
    "#define PCA model to use\n",
    "pca_first = PCA(n_components=12)\n",
    "\n",
    "#fit PCA model to data\n",
    "pca_fit = pca_first.fit(df_new)"
   ]
  },
  {
   "cell_type": "code",
   "execution_count": 55,
   "id": "d155eb0b-92e2-432e-b039-d4aac9b09df9",
   "metadata": {},
   "outputs": [
    {
     "data": {
      "image/png": "[encoded data removed]",
      "text/plain": [
       "<Figure size 640x480 with 1 Axes>"
      ]
     },
     "metadata": {},
     "output_type": "display_data"
    }
   ],
   "source": [
    "PC_values = np.arange(pca_first.n_components_) + 1\n",
    "plt.plot(PC_values, pca_first.explained_variance_ratio_, 'o-', linewidth=2, color='blue')\n",
    "plt.title('Scree Plot')\n",
    "plt.xlabel('Principal Component')\n",
    "plt.ylabel('Variance Explained')\n",
    "plt.show()"
   ]
  },
  {
   "cell_type": "code",
   "execution_count": 57,
   "id": "4a015f15-5a50-492d-b6d5-28280c034f47",
   "metadata": {},
   "outputs": [],
   "source": [
    "#define PCA model to use\n",
    "pca = PCA(n_components=3)\n",
    "\n",
    "#fit PCA model to data\n",
    "pca_fit = pca.fit(df_new)"
   ]
  },
  {
   "cell_type": "code",
   "execution_count": 121,
   "id": "80105346-614c-435f-afc9-47f3d8b6213c",
   "metadata": {},
   "outputs": [
    {
     "name": "stdout",
     "output_type": "stream",
     "text": [
      "                           PC1       PC2       PC3\n",
      "SquareFootage         0.381054  0.239347  0.375757\n",
      "BackyardSpace         0.107063 -0.004035 -0.124916\n",
      "CrimeRate            -0.136758 -0.037752  0.601606\n",
      "SchoolRating          0.405542  0.144123 -0.183093\n",
      "AgeOfHome            -0.164976  0.037457  0.129157\n",
      "DistanceToCityCenter -0.223300 -0.069706  0.015187\n",
      "EmploymentRate        0.156930  0.058454 -0.584208\n",
      "PropertyTaxRate      -0.167303 -0.094551  0.101661\n",
      "RenovationQuality     0.446784  0.099069  0.030533\n",
      "LocalAmenities        0.240516 -0.655931  0.044572\n",
      "TransportAccess       0.242320 -0.655194  0.037412\n",
      "PreviousSalePrice     0.462912  0.180393  0.273651\n"
     ]
    }
   ],
   "source": [
    "loadings = pd.DataFrame(pca.components_.T, columns = [\"PC1\", \"PC2\", \"PC3\"], index=df_new1.columns.values)\n",
    "print(loadings)"
   ]
  },
  {
   "cell_type": "code",
   "execution_count": 59,
   "id": "85d9ff3a-8a8e-4388-9886-93ed56d15198",
   "metadata": {},
   "outputs": [],
   "source": [
    "var_exp = pca.explained_variance_ratio_"
   ]
  },
  {
   "cell_type": "code",
   "execution_count": 61,
   "id": "3e86155b-935c-4f18-aafe-90903b557a7d",
   "metadata": {},
   "outputs": [
    {
     "name": "stdout",
     "output_type": "stream",
     "text": [
      "[0.23523251 0.11048526 0.09248521]\n"
     ]
    }
   ],
   "source": [
    "print(var_exp)"
   ]
  },
  {
   "cell_type": "code",
   "execution_count": 63,
   "id": "d72a5f85-fdc1-47cb-bc9c-71ddc391ad01",
   "metadata": {},
   "outputs": [
    {
     "name": "stdout",
     "output_type": "stream",
     "text": [
      "PCA(n_components=3)\n"
     ]
    }
   ],
   "source": [
    "print(pca)"
   ]
  },
  {
   "cell_type": "code",
   "execution_count": 65,
   "id": "81f6f7f5-7c29-4928-a124-cf2bf6058edd",
   "metadata": {},
   "outputs": [],
   "source": [
    "df_regression=pca.fit_transform(df_new)"
   ]
  },
  {
   "cell_type": "code",
   "execution_count": 67,
   "id": "18f74992-c811-48ae-99fe-a311f6a49598",
   "metadata": {},
   "outputs": [],
   "source": [
    "df_regression=pd.DataFrame(df_regression)"
   ]
  },
  {
   "cell_type": "code",
   "execution_count": 69,
   "id": "b235a8c6-b925-41a8-bd30-de59b6673f22",
   "metadata": {},
   "outputs": [
    {
     "name": "stdout",
     "output_type": "stream",
     "text": [
      "             0         1         2\n",
      "0    -0.931645  0.409043 -1.411649\n",
      "1    -0.074048 -0.151021 -0.520698\n",
      "2    -0.128419 -1.770111 -1.954223\n",
      "3    -0.781219 -0.009438 -0.227587\n",
      "4    -1.984420 -1.096347 -0.640030\n",
      "...        ...       ...       ...\n",
      "6995  0.033555  0.036220 -1.952206\n",
      "6996  1.583736 -1.821542  1.447390\n",
      "6997  0.710538  0.964574 -1.159331\n",
      "6998  2.806493  0.654572 -0.547916\n",
      "6999  2.835588  1.042241 -0.457317\n",
      "\n",
      "[7000 rows x 3 columns]\n"
     ]
    }
   ],
   "source": [
    "print(df_regression)"
   ]
  },
  {
   "cell_type": "code",
   "execution_count": 71,
   "id": "55a91d23-0556-4967-81a2-39f771de0112",
   "metadata": {},
   "outputs": [
    {
     "name": "stdout",
     "output_type": "stream",
     "text": [
      "0       255614.8992\n",
      "1       155586.0947\n",
      "2       131050.8324\n",
      "3       151361.7125\n",
      "4       113167.6128\n",
      "           ...     \n",
      "6995    307821.1758\n",
      "6996    421368.8869\n",
      "6997    473382.5348\n",
      "6998    343397.9756\n",
      "6999    438060.8193\n",
      "Name: Price, Length: 7000, dtype: float64\n"
     ]
    }
   ],
   "source": [
    "print(y)"
   ]
  },
  {
   "cell_type": "code",
   "execution_count": 73,
   "id": "9e5631fc-cdb8-4727-994b-7b3ef2a48f87",
   "metadata": {},
   "outputs": [
    {
     "name": "stderr",
     "output_type": "stream",
     "text": [
      "Features: 3/3"
     ]
    }
   ],
   "source": [
    "linearreg = LinearRegression()\n",
    "forwad = SequentialFeatureSelector(\n",
    "linearreg,\n",
    "k_features=3,\n",
    "forward=True,\n",
    "verbose=1\n",
    ")\n",
    "sf = forwad.fit(df_regression, y)"
   ]
  },
  {
   "cell_type": "code",
   "execution_count": 75,
   "id": "ad2d1483-6a21-4595-b93a-b27cb1ec58e2",
   "metadata": {},
   "outputs": [
    {
     "name": "stdout",
     "output_type": "stream",
     "text": [
      "[0, 1, 2]\n",
      "(0, 1, 2)\n"
     ]
    }
   ],
   "source": [
    "feat_names = list(sf.k_feature_names_)\n",
    "print(feat_names)\n",
    "\n",
    "print(sf.k_feature_idx_)"
   ]
  },
  {
   "cell_type": "code",
   "execution_count": 89,
   "id": "3fb066cb-c5c2-4e9b-8bb6-e1325cc522c4",
   "metadata": {},
   "outputs": [],
   "source": [
    "df_regression = sm.add_constant(df_regression)"
   ]
  },
  {
   "cell_type": "code",
   "execution_count": 91,
   "id": "0f09745b-7b67-46f2-a812-2c9af3cc9196",
   "metadata": {},
   "outputs": [],
   "source": [
    "first_model = sm.OLS(y, df_regression).fit()\n",
    "\n",
    "df_regression.columns = df_regression.columns.astype(str)"
   ]
  },
  {
   "cell_type": "code",
   "execution_count": 93,
   "id": "c5e7b858-37c7-4b07-b2dd-6afbf179f436",
   "metadata": {},
   "outputs": [
    {
     "name": "stdout",
     "output_type": "stream",
     "text": [
      "                            OLS Regression Results                            \n",
      "==============================================================================\n",
      "Dep. Variable:                  Price   R-squared:                       0.570\n",
      "Model:                            OLS   Adj. R-squared:                  0.570\n",
      "Method:                 Least Squares   F-statistic:                     3096.\n",
      "Date:                Wed, 01 Jan 2025   Prob (F-statistic):               0.00\n",
      "Time:                        13:03:28   Log-Likelihood:                -90412.\n",
      "No. Observations:                7000   AIC:                         1.808e+05\n",
      "Df Residuals:                    6996   BIC:                         1.809e+05\n",
      "Df Model:                           3                                         \n",
      "Covariance Type:            nonrobust                                         \n",
      "==============================================================================\n",
      "                 coef    std err          t      P>|t|      [0.025      0.975]\n",
      "------------------------------------------------------------------------------\n",
      "const       3.073e+05   1176.774    261.122      0.000    3.05e+05     3.1e+05\n",
      "0           6.177e+04    700.412     88.194      0.000    6.04e+04    6.31e+04\n",
      "1           2.382e+04   1021.998     23.306      0.000    2.18e+04    2.58e+04\n",
      "2           3.471e+04   1117.033     31.077      0.000    3.25e+04    3.69e+04\n",
      "==============================================================================\n",
      "Omnibus:                      430.439   Durbin-Watson:                   1.572\n",
      "Prob(Omnibus):                  0.000   Jarque-Bera (JB):              536.461\n",
      "Skew:                           0.598   Prob(JB):                    3.23e-117\n",
      "Kurtosis:                       3.640   Cond. No.                         1.68\n",
      "==============================================================================\n",
      "\n",
      "Notes:\n",
      "[1] Standard Errors assume that the covariance matrix of the errors is correctly specified.\n"
     ]
    }
   ],
   "source": [
    "print(first_model.summary())"
   ]
  },
  {
   "cell_type": "code",
   "execution_count": 95,
   "id": "80648276-f64b-4900-a5e0-53e47b583e6c",
   "metadata": {},
   "outputs": [],
   "source": [
    "train_x, valid_x, train_y, valid_y = train_test_split(df_regression, y, test_size=0.4, random_state=1)"
   ]
  },
  {
   "cell_type": "code",
   "execution_count": 97,
   "id": "630414be-b7ed-464d-8289-5d84f9da868a",
   "metadata": {},
   "outputs": [
    {
     "name": "stdout",
     "output_type": "stream",
     "text": [
      "  Predictor   coefficient\n",
      "0     const      0.000000\n",
      "1         0  62935.274914\n",
      "2         1  23925.358927\n",
      "3         2  34854.678353\n"
     ]
    }
   ],
   "source": [
    "\n",
    "\n",
    "house_lm = LinearRegression()\n",
    "house_lm.fit(train_x, train_y)\n",
    "\n",
    "print(pd.DataFrame({'Predictor': df_regression.columns, 'coefficient': house_lm.coef_}))"
   ]
  },
  {
   "cell_type": "code",
   "execution_count": 103,
   "id": "ecdadf2b-ad7b-4a23-9296-d03b923e77d5",
   "metadata": {},
   "outputs": [
    {
     "name": "stdout",
     "output_type": "stream",
     "text": [
      "\n",
      "Regression statistics\n",
      "\n",
      "                      Mean Error (ME) : 0.0000\n",
      "       Root Mean Squared Error (RMSE) : 99007.5869\n",
      "            Mean Absolute Error (MAE) : 77811.2186\n",
      "          Mean Percentage Error (MPE) : -9.8689\n",
      "Mean Absolute Percentage Error (MAPE) : 28.8439\n"
     ]
    }
   ],
   "source": [
    "regressionSummary(train_y, house_lm.predict(train_x))"
   ]
  },
  {
   "cell_type": "code",
   "execution_count": 105,
   "id": "62d48552-8e9e-49f6-a736-4c5af5e437b1",
   "metadata": {},
   "outputs": [
    {
     "name": "stdout",
     "output_type": "stream",
     "text": [
      "9802502263.761051\n"
     ]
    }
   ],
   "source": [
    "print(99007.5869**2)"
   ]
  },
  {
   "cell_type": "code",
   "execution_count": 107,
   "id": "53782f01-3da9-46dd-961b-2d9f30de47da",
   "metadata": {},
   "outputs": [
    {
     "name": "stdout",
     "output_type": "stream",
     "text": [
      "          Predicted       Actual       Residual\n",
      "2305  180614.023124  184107.5474    3493.524276\n",
      "4388  389692.921086  376148.7559  -13544.165186\n",
      "1686  216371.941435  188820.5790  -27551.362435\n",
      "4945  312485.482342  298752.8523  -13732.630042\n",
      "4197  454325.714964  464444.5259   10118.810936\n",
      "1651  316008.226602  228390.5602  -87617.666402\n",
      "1528  218273.518304  264959.3866   46685.868296\n",
      "6346  495011.722989  614439.2730  119427.550011\n",
      "6189  367158.389144  356183.7097  -10974.679444\n",
      "5389  278146.473707  354213.0866   76066.612893\n",
      "2575  218079.016575  141189.5276  -76889.488975\n",
      "4474  341946.826376  369719.7828   27772.956424\n",
      "2403  280329.804736  191694.2262  -88635.578536\n",
      "1070  194303.635742  196530.6017    2226.965958\n",
      "3216  204986.904152  183793.3108  -21193.593352\n",
      "5856  280623.848343  330861.4805   50237.632157\n",
      "3534  357865.061182  323339.5808  -34525.480382\n",
      "1989  292010.862580  201087.8037  -90923.058880\n",
      "4873  371142.908910  450706.0897   79563.180790\n",
      "1555  277517.417772  189580.6762  -87936.741572\n",
      "\n",
      "Regression statistics\n",
      "\n",
      "                      Mean Error (ME) : 126.2161\n",
      "       Root Mean Squared Error (RMSE) : 97601.1188\n",
      "            Mean Absolute Error (MAE) : 76655.3697\n",
      "          Mean Percentage Error (MPE) : -9.4300\n",
      "Mean Absolute Percentage Error (MAPE) : 28.4160\n"
     ]
    }
   ],
   "source": [
    "# Use predict() to make predictions on a new set\n",
    "new_house_lm_pred = house_lm.predict(valid_x)\n",
    "\n",
    "result = pd.DataFrame({'Predicted': new_house_lm_pred, 'Actual': valid_y,\n",
    "                       'Residual': valid_y - new_house_lm_pred})\n",
    "print(result.head(20))\n",
    "\n",
    "# print performance measures (validation data)\n",
    "regressionSummary(valid_y, new_house_lm_pred)"
   ]
  },
  {
   "cell_type": "code",
   "execution_count": 111,
   "id": "0ebf52d0-7094-47a5-a24f-b54129a53126",
   "metadata": {},
   "outputs": [
    {
     "name": "stdout",
     "output_type": "stream",
     "text": [
      "9525978391.011713\n"
     ]
    }
   ],
   "source": [
    "print(97601.1188**2)"
   ]
  },
  {
   "cell_type": "code",
   "execution_count": 131,
   "id": "5fb49db5-1ca7-41cb-ab4a-64c1184c01d6",
   "metadata": {},
   "outputs": [],
   "source": [
    "train_y = pd.DataFrame(train_y)\n",
    "\n",
    "train_x = pd.DataFrame(train_x)\n",
    "\n",
    "train_merged = train_y.merge(train_x, left_index=True, right_index=True)"
   ]
  },
  {
   "cell_type": "code",
   "execution_count": 133,
   "id": "a896cec2-bcca-487f-8d21-bb6943fd42f9",
   "metadata": {},
   "outputs": [],
   "source": [
    "valid_y = pd.DataFrame(valid_y)\n",
    "\n",
    "valid_x = pd.DataFrame(valid_x)\n",
    "\n",
    "valid_merged = valid_y.merge(valid_x ,left_index=True, right_index=True)"
   ]
  }
 ],
 "metadata": {
  "kernelspec": {
   "display_name": "Python 3 (ipykernel)",
   "language": "python",
   "name": "python3"
  },
  "language_info": {
   "codemirror_mode": {
    "name": "ipython",
    "version": 3
   },
   "file_extension": ".py",
   "mimetype": "text/x-python",
   "name": "python",
   "nbconvert_exporter": "python",
   "pygments_lexer": "ipython3",
   "version": "3.12.4"
  }
 },
 "nbformat": 4,
 "nbformat_minor": 5
}
